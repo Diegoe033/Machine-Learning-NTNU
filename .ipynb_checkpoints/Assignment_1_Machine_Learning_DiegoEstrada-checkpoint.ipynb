{
 "cells": [
  {
   "cell_type": "code",
   "execution_count": 3,
   "id": "47d6423a-9d65-468c-8b39-e4cdf9614d87",
   "metadata": {},
   "outputs": [],
   "source": [
    "import os  # Import os \n",
    "\n",
    "import pandas as pd # Import Pandas\n",
    "import numpy as np #Import Numpy\n",
    "import matplotlib as mpl #Import matplotlib\n",
    "import sklearn #Import Sci-kit learn\n",
    "import matplotlib.pyplot as plt #Import matplotlib.pyplot\n",
    "\n"
   ]
  },
  {
   "cell_type": "code",
   "execution_count": null,
   "id": "5ae59349-ea87-47c5-9ee1-40f184c7482b",
   "metadata": {},
   "outputs": [],
   "source": []
  },
  {
   "cell_type": "code",
   "execution_count": null,
   "id": "825df230-9ef4-40c4-82c0-9d406642e244",
   "metadata": {},
   "outputs": [],
   "source": []
  }
 ],
 "metadata": {
  "kernelspec": {
   "display_name": "Python 3 (ipykernel)",
   "language": "python",
   "name": "python3"
  },
  "language_info": {
   "codemirror_mode": {
    "name": "ipython",
    "version": 3
   },
   "file_extension": ".py",
   "mimetype": "text/x-python",
   "name": "python",
   "nbconvert_exporter": "python",
   "pygments_lexer": "ipython3",
   "version": "3.12.6"
  }
 },
 "nbformat": 4,
 "nbformat_minor": 5
}
